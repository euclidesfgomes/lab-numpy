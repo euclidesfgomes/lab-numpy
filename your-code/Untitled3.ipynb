{
 "cells": [
  {
   "cell_type": "code",
   "execution_count": 2,
   "metadata": {},
   "outputs": [],
   "source": [
    "import numpy as np"
   ]
  },
  {
   "cell_type": "code",
   "execution_count": 3,
   "metadata": {},
   "outputs": [
    {
     "name": "stdout",
     "output_type": "stream",
     "text": [
      "[[[2.00000000e+000 2.00000000e+000 6.76869935e-322 0.00000000e+000\n",
      "   0.00000000e+000]\n",
      "  [0.00000000e+000 0.00000000e+000 6.94986218e-310 6.94986218e-310\n",
      "   0.00000000e+000]\n",
      "  [0.00000000e+000 0.00000000e+000 0.00000000e+000 0.00000000e+000\n",
      "   0.00000000e+000]]\n",
      "\n",
      " [[0.00000000e+000 0.00000000e+000 0.00000000e+000 0.00000000e+000\n",
      "   0.00000000e+000]\n",
      "  [0.00000000e+000 0.00000000e+000 0.00000000e+000 0.00000000e+000\n",
      "   0.00000000e+000]\n",
      "  [0.00000000e+000 0.00000000e+000 0.00000000e+000 0.00000000e+000\n",
      "   0.00000000e+000]]]\n"
     ]
    }
   ],
   "source": [
    "f = np.empty([2,3,5])\n",
    "\n",
    "print(f)"
   ]
  },
  {
   "cell_type": "code",
   "execution_count": 4,
   "metadata": {},
   "outputs": [
    {
     "ename": "SyntaxError",
     "evalue": "invalid syntax (<ipython-input-4-ceb51d82df56>, line 1)",
     "output_type": "error",
     "traceback": [
      "\u001b[0;36m  File \u001b[0;32m\"<ipython-input-4-ceb51d82df56>\"\u001b[0;36m, line \u001b[0;32m1\u001b[0m\n\u001b[0;31m    for element in f enumerate:\u001b[0m\n\u001b[0m                     ^\u001b[0m\n\u001b[0;31mSyntaxError\u001b[0m\u001b[0;31m:\u001b[0m invalid syntax\n"
     ]
    }
   ],
   "source": [
    "for element in f enumerate:\n",
    "    if element > d_min and element < d_mean:\n",
    "        f[element][0] = 25\n",
    "    \n",
    "    \n",
    "\n"
   ]
  },
  {
   "cell_type": "code",
   "execution_count": null,
   "metadata": {},
   "outputs": [],
   "source": [
    "for element in d:\n",
    "    if element > d_min and element < d_mean:\n",
    "        #assign 25\n",
    "    if element > d_mean and element < d_max:\n",
    "        #assign 75\n",
    "    if element == d_mean:\n",
    "        #assign 50\n",
    "    if element == d_min:\n",
    "        #assign 0\n",
    "    if element == d_max:\n",
    "        #assign 100"
   ]
  }
 ],
 "metadata": {
  "kernelspec": {
   "display_name": "Python 3",
   "language": "python",
   "name": "python3"
  },
  "language_info": {
   "codemirror_mode": {
    "name": "ipython",
    "version": 3
   },
   "file_extension": ".py",
   "mimetype": "text/x-python",
   "name": "python",
   "nbconvert_exporter": "python",
   "pygments_lexer": "ipython3",
   "version": "3.8.5"
  }
 },
 "nbformat": 4,
 "nbformat_minor": 4
}
